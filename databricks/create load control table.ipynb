{
 "cells": [
  {
   "cell_type": "code",
   "execution_count": 0,
   "metadata": {
    "application/vnd.databricks.v1+cell": {
     "cellMetadata": {
      "byteLimit": 2048000,
      "implicitDf": true,
      "rowLimit": 10000
     },
     "inputWidgets": {},
     "nuid": "ce10adc0-9485-46bb-ad11-a2b08ef91051",
     "showTitle": false,
     "tableResultSettingsMap": {},
     "title": ""
    }
   },
   "outputs": [],
   "source": [
    "%sql\n",
    "create schema fingrid_bronze"
   ]
  },
  {
   "cell_type": "markdown",
   "metadata": {
    "application/vnd.databricks.v1+cell": {
     "cellMetadata": {},
     "inputWidgets": {},
     "nuid": "83dbaaaf-5eb9-4abd-a3ee-ddd3b5ff3bff",
     "showTitle": false,
     "tableResultSettingsMap": {},
     "title": ""
    }
   },
   "source": [
    "245/data?startTime=2025-02-07T21:00:00.000Z&endTime=2025-03-07T21:00:00.000Z&pageSize=100"
   ]
  },
  {
   "cell_type": "code",
   "execution_count": 0,
   "metadata": {
    "application/vnd.databricks.v1+cell": {
     "cellMetadata": {
      "byteLimit": 2048000,
      "implicitDf": true,
      "rowLimit": 10000
     },
     "inputWidgets": {},
     "nuid": "88e6f0de-2e53-4495-a319-7ab94ddd66c6",
     "showTitle": false,
     "tableResultSettingsMap": {},
     "title": ""
    }
   },
   "outputs": [],
   "source": [
    "%sql\n",
    "CREATE OR REPLACE TABLE fingrid_test_workspace.fingrid_load_control.load_control (\n",
    "  id BIGINT GENERATED ALWAYS AS IDENTITY,\n",
    "  source_system STRING,\n",
    "  source_dataset_id STRING,\n",
    "  source_dateset_name STRING,\n",
    "  last_timestamp TIMESTAMP,\n",
    "  refresh_timestamp TIMESTAMP,\n",
    "  target_container STRING,\n",
    "  target_folder STRING\n",
    ")\n",
    "USING DELTA\n",
    "LOCATION 'abfss://loadcontroal@fingridtest.dfs.core.windows.net/load_control'"
   ]
  },
  {
   "cell_type": "code",
   "execution_count": 0,
   "metadata": {
    "application/vnd.databricks.v1+cell": {
     "cellMetadata": {
      "byteLimit": 2048000,
      "implicitDf": true,
      "rowLimit": 10000
     },
     "inputWidgets": {},
     "nuid": "f55971a4-ca0d-4438-8b75-93ff3c8fbd30",
     "showTitle": false,
     "tableResultSettingsMap": {},
     "title": ""
    }
   },
   "outputs": [],
   "source": [
    "%sql\n",
    "select * from fingrid_test_workspace.fingrid_load_control.load_control\n",
    "-- WHERE source_dataset_id = '245'"
   ]
  },
  {
   "cell_type": "code",
   "execution_count": 0,
   "metadata": {
    "application/vnd.databricks.v1+cell": {
     "cellMetadata": {
      "byteLimit": 2048000,
      "implicitDf": true,
      "rowLimit": 10000
     },
     "inputWidgets": {},
     "nuid": "9e7f7ac0-5265-4bf1-94f4-76a82ff38ffc",
     "showTitle": false,
     "tableResultSettingsMap": {},
     "title": ""
    }
   },
   "outputs": [],
   "source": [
    "%sql\n",
    "insert into fingrid_test_workspace.fingrid_load_control.load_control\n",
    "(source_system,\n",
    "  source_dataset_id,\n",
    "  source_dateset_name,\n",
    "  last_timestamp,\n",
    "  refresh_timestamp,\n",
    "  target_container,\n",
    "  target_folder,\n",
    "  page_size,\n",
    "  load_increment_days )\n",
    "values('Fingrid','358','Electricity consumption by customer type at accounting points in Finnish distribution networks', '2024-01-01T00:00:00.000Z', '2025-01-01T00:00:00.000Z', 'bronze','Electricity_consumption_by_customer_type',20000,1)"
   ]
  },
  {
   "cell_type": "code",
   "execution_count": 0,
   "metadata": {
    "application/vnd.databricks.v1+cell": {
     "cellMetadata": {
      "byteLimit": 2048000,
      "implicitDf": true,
      "rowLimit": 10000
     },
     "inputWidgets": {},
     "nuid": "11bdda9c-f667-4d03-880b-1e7d93d0c66a",
     "showTitle": false,
     "tableResultSettingsMap": {},
     "title": ""
    }
   },
   "outputs": [],
   "source": [
    "%sql\n",
    "update fingrid_test_workspace.fingrid_load_control.load_control\n",
    "set  last_timestamp = '2025-01-01T00:00:00.000Z'\n",
    "where source_dataset_id = '245'\n"
   ]
  },
  {
   "cell_type": "code",
   "execution_count": 0,
   "metadata": {
    "application/vnd.databricks.v1+cell": {
     "cellMetadata": {
      "byteLimit": 2048000,
      "implicitDf": true,
      "rowLimit": 10000
     },
     "inputWidgets": {},
     "nuid": "164f01a5-dbb5-4ece-b114-d168d095318b",
     "showTitle": false,
     "tableResultSettingsMap": {},
     "title": ""
    }
   },
   "outputs": [],
   "source": [
    "%sql\n",
    "update fingrid_test_workspace.fingrid_load_control.load_control\n",
    "set last_timestamp = '2024-01-01T00:00:00.000Z', page_size = 20000\n",
    "where source_dataset_id = '248'"
   ]
  },
  {
   "cell_type": "code",
   "execution_count": 0,
   "metadata": {
    "application/vnd.databricks.v1+cell": {
     "cellMetadata": {
      "byteLimit": 2048000,
      "implicitDf": true,
      "rowLimit": 10000
     },
     "inputWidgets": {},
     "nuid": "32602e07-a0b2-4938-bc9c-90a0fe6ab166",
     "showTitle": false,
     "tableResultSettingsMap": {},
     "title": ""
    }
   },
   "outputs": [],
   "source": [
    "%sql\n",
    "update fingrid_test_workspace.fingrid_load_control.load_control\n",
    "set last_timestamp = '2025-05-10T00:00:00.000Z', page_size = 100\n",
    "where source_dataset_id = '248'"
   ]
  },
  {
   "cell_type": "code",
   "execution_count": 0,
   "metadata": {
    "application/vnd.databricks.v1+cell": {
     "cellMetadata": {
      "byteLimit": 2048000,
      "implicitDf": true,
      "rowLimit": 10000
     },
     "inputWidgets": {},
     "nuid": "873ac703-c831-41e6-a2d4-d05d812b10bc",
     "showTitle": false,
     "tableResultSettingsMap": {},
     "title": ""
    }
   },
   "outputs": [],
   "source": [
    "%sql\n",
    "DELETE FROM fingrid_test_workspace.fingrid_load_control.load_control WHERE id =4;\n"
   ]
  },
  {
   "cell_type": "code",
   "execution_count": 0,
   "metadata": {
    "application/vnd.databricks.v1+cell": {
     "cellMetadata": {
      "byteLimit": 2048000,
      "implicitDf": true,
      "rowLimit": 10000
     },
     "inputWidgets": {},
     "nuid": "a401fa9f-26c5-48f8-b07e-02c098d4d55f",
     "showTitle": false,
     "tableResultSettingsMap": {},
     "title": ""
    }
   },
   "outputs": [],
   "source": [
    "%sql\n",
    "alter table fingrid_test_workspace.fingrid_load_control.load_control\n",
    "add columns  (load_increment_days int)"
   ]
  },
  {
   "cell_type": "code",
   "execution_count": 0,
   "metadata": {
    "application/vnd.databricks.v1+cell": {
     "cellMetadata": {
      "byteLimit": 2048000,
      "implicitDf": true,
      "rowLimit": 10000
     },
     "inputWidgets": {},
     "nuid": "1f101a59-ee62-4c68-aac5-ffdfc3897929",
     "showTitle": false,
     "tableResultSettingsMap": {},
     "title": ""
    }
   },
   "outputs": [],
   "source": [
    "%sql\n",
    "update fingrid_test_workspace.fingrid_load_control.load_control\n",
    "set load_increment_days = 1\n",
    "where source_dataset_id = '245'"
   ]
  },
  {
   "cell_type": "code",
   "execution_count": 0,
   "metadata": {
    "application/vnd.databricks.v1+cell": {
     "cellMetadata": {
      "byteLimit": 2048000,
      "implicitDf": true,
      "rowLimit": 10000
     },
     "inputWidgets": {},
     "nuid": "d4c2f44b-4f5a-4840-8bb0-f8624cd0284e",
     "showTitle": false,
     "tableResultSettingsMap": {},
     "title": ""
    }
   },
   "outputs": [],
   "source": [
    "%sql\n",
    "insert into fingrid_test_workspace.fingrid_load_control.load_control\n",
    "( end_time,page_size )\n",
    "values('2023-02-01T00:00:00.000Z', 100)"
   ]
  },
  {
   "cell_type": "code",
   "execution_count": 0,
   "metadata": {
    "application/vnd.databricks.v1+cell": {
     "cellMetadata": {
      "byteLimit": 2048000,
      "implicitDf": true,
      "rowLimit": 10000
     },
     "collapsed": true,
     "inputWidgets": {},
     "nuid": "44c16d99-9294-4162-9d30-b5b28bba6281",
     "showTitle": false,
     "tableResultSettingsMap": {},
     "title": ""
    }
   },
   "outputs": [],
   "source": [
    "%sql\n",
    "-- Enable column mapping on the Delta table\n",
    "ALTER TABLE fingrid_test_workspace.fingrid_load_control.load_control\n",
    "SET TBLPROPERTIES (\n",
    "  'delta.minReaderVersion' = '2',\n",
    "  'delta.minWriterVersion' = '5',\n",
    "  'delta.columnMapping.mode' = 'name'\n",
    ");\n",
    "\n",
    "-- Drop the column after enabling column mapping\n",
    "ALTER TABLE fingrid_test_workspace.fingrid_load_control.load_control\n",
    "DROP COLUMN end_time;"
   ]
  },
  {
   "cell_type": "code",
   "execution_count": 0,
   "metadata": {
    "application/vnd.databricks.v1+cell": {
     "cellMetadata": {
      "byteLimit": 2048000,
      "implicitDf": true,
      "rowLimit": 10000
     },
     "inputWidgets": {},
     "nuid": "3dd8bf6b-44aa-4ec0-8f8a-94ed04be0b91",
     "showTitle": false,
     "tableResultSettingsMap": {},
     "title": ""
    }
   },
   "outputs": [],
   "source": [
    "%sql\n",
    "select * from fingrid_test_workspace.fingrid_load_control.load_control\n",
    "-- WHERE source_dataset_id = '245'"
   ]
  },
  {
   "cell_type": "code",
   "execution_count": 0,
   "metadata": {
    "application/vnd.databricks.v1+cell": {
     "cellMetadata": {
      "byteLimit": 2048000,
      "implicitDf": true,
      "rowLimit": 10000
     },
     "inputWidgets": {},
     "nuid": "909e4650-3dba-4a2f-93b6-76e062050d73",
     "showTitle": false,
     "tableResultSettingsMap": {},
     "title": ""
    }
   },
   "outputs": [],
   "source": [
    "%sql\n",
    "select * from fingrid_test_workspace.fingrid_load_control.load_control\n",
    "-- WHERE source_dataset_id = '245'"
   ]
  },
  {
   "cell_type": "code",
   "execution_count": 0,
   "metadata": {
    "application/vnd.databricks.v1+cell": {
     "cellMetadata": {},
     "inputWidgets": {},
     "nuid": "636c4a10-2912-43d6-87e2-aac17d144ea5",
     "showTitle": false,
     "tableResultSettingsMap": {},
     "title": ""
    }
   },
   "outputs": [],
   "source": [
    "%sql\n",
    "update fingrid_test_workspace.fingrid_load_control.load_control\n",
    "set end_time = '2023-02-01T00:00:00.000Z'\n",
    "where id = 1"
   ]
  },
  {
   "cell_type": "markdown",
   "metadata": {
    "application/vnd.databricks.v1+cell": {
     "cellMetadata": {},
     "inputWidgets": {},
     "nuid": "ac1f1e14-ae12-4575-bc5c-720385797069",
     "showTitle": false,
     "tableResultSettingsMap": {},
     "title": ""
    }
   },
   "source": [
    "# https://data.fingrid.fi/api/datasets/248/data?startTime=2025-05-01T20:03:22.572Z&endTime=2025-05-15T20:03:22.572Z&format=json&pageSize=100&sortBy=startTime&sortOrder=asc#"
   ]
  }
 ],
 "metadata": {
  "application/vnd.databricks.v1+notebook": {
   "computePreferences": null,
   "dashboards": [],
   "environmentMetadata": {
    "base_environment": "",
    "environment_version": "2"
   },
   "inputWidgetPreferences": null,
   "language": "python",
   "notebookMetadata": {
    "mostRecentlyExecutedCommandWithImplicitDF": {
     "commandId": 4830843796010003,
     "dataframes": [
      "_sqldf"
     ]
    },
    "pythonIndentUnit": 4
   },
   "notebookName": "create load control table",
   "widgets": {}
  },
  "language_info": {
   "name": "python"
  }
 },
 "nbformat": 4,
 "nbformat_minor": 0
}
