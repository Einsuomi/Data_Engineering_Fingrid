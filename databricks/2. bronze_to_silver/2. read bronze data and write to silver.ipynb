{
 "cells": [
  {
   "cell_type": "markdown",
   "metadata": {
    "application/vnd.databricks.v1+cell": {
     "cellMetadata": {},
     "inputWidgets": {},
     "nuid": "7caae4a2-9bb6-40f4-b9e8-285667463b31",
     "showTitle": false,
     "tableResultSettingsMap": {},
     "title": ""
    }
   },
   "source": [
    "# fingrid_test_workspace.fingrid_silver.solar_forecast"
   ]
  },
  {
   "cell_type": "code",
   "execution_count": 0,
   "metadata": {
    "application/vnd.databricks.v1+cell": {
     "cellMetadata": {
      "byteLimit": 2048000,
      "rowLimit": 10000
     },
     "inputWidgets": {},
     "nuid": "833d7b22-933f-4eeb-a124-c714099bbb06",
     "showTitle": false,
     "tableResultSettingsMap": {},
     "title": ""
    }
   },
   "outputs": [],
   "source": [
    "import pyspark.sql.functions as F\n",
    "\n",
    "catalog = \"fingrid_test_workspace\"\n",
    "\n",
    "schema = \"fingrid_bronze\"\n",
    "\n",
    "solar_forecast_raw_table_name = \"solar_forecast_raw\"\n",
    "\n",
    "solar_forecast_raw_table = \".\".join([catalog, schema, solar_forecast_raw_table_name])\n",
    "\n",
    "df_solar = spark.read.table(solar_forecast_raw_table)\n",
    "\n",
    "\n",
    "df_solar_flat = df_solar.select(F.explode(F.col(\"data\")).alias(\"record\"))\n",
    "\n",
    "df_solar_result = df_solar_flat.select(\n",
    "    F.col(\"record.datasetId\").alias(\"dataset_id\"),\n",
    "    F.col(\"record.startTime\").alias(\"start_time\"),\n",
    "    F.col(\"record.endTime\").alias(\"end_time\"),\n",
    "    F.col(\"record.value\").alias(\"value\")\n",
    ")\n",
    "df_solar_result = df_solar_result.withColumn(\"refresh_timestamp\", F.current_timestamp())\n",
    "df_solar_result.display()\n",
    "\n",
    "df_solar_result.write.mode(\"append\").saveAsTable('fingrid_test_workspace.fingrid_silver.solar_forecast')"
   ]
  },
  {
   "cell_type": "code",
   "execution_count": 0,
   "metadata": {
    "application/vnd.databricks.v1+cell": {
     "cellMetadata": {
      "byteLimit": 2048000,
      "implicitDf": true,
      "rowLimit": 10000
     },
     "inputWidgets": {},
     "nuid": "7b434c4d-4587-4c74-9024-9f36a73bd02a",
     "showTitle": false,
     "tableResultSettingsMap": {},
     "title": ""
    }
   },
   "outputs": [],
   "source": [
    "%sql\n",
    "select * from fingrid_test_workspace.fingrid_silver.solar_forecast"
   ]
  },
  {
   "cell_type": "markdown",
   "metadata": {
    "application/vnd.databricks.v1+cell": {
     "cellMetadata": {},
     "inputWidgets": {},
     "nuid": "e4e3dd8f-053f-4dc3-b697-0cd609d0d31d",
     "showTitle": false,
     "tableResultSettingsMap": {},
     "title": ""
    }
   },
   "source": [
    "#  fingrid_test_workspace.fingrid_silver.wind_forecast"
   ]
  },
  {
   "cell_type": "code",
   "execution_count": 0,
   "metadata": {
    "application/vnd.databricks.v1+cell": {
     "cellMetadata": {
      "byteLimit": 2048000,
      "rowLimit": 10000
     },
     "inputWidgets": {},
     "nuid": "56ab5616-c968-4ec5-b393-34b816e2864a",
     "showTitle": false,
     "tableResultSettingsMap": {},
     "title": ""
    }
   },
   "outputs": [],
   "source": [
    "import pyspark.sql.functions as F\n",
    "\n",
    "catalog = \"fingrid_test_workspace\"\n",
    "\n",
    "schema = \"fingrid_bronze\"\n",
    "\n",
    "wind_forecast_raw_table_name = \"wind_forecast_raw\"\n",
    "\n",
    "wind_forecast_raw_table = \".\".join([catalog, schema, wind_forecast_raw_table_name])\n",
    "\n",
    "df_wind = spark.read.table(wind_forecast_raw_table)\n",
    "\n",
    "\n",
    "df_wind_flat = df_wind.select(F.explode(F.col(\"data\")).alias(\"record\"))\n",
    "\n",
    "df_wind_result = df_wind_flat.select(\n",
    "    F.col(\"record.datasetId\").alias(\"dataset_id\"),\n",
    "    F.col(\"record.startTime\").alias(\"start_time\"),\n",
    "    F.col(\"record.endTime\").alias(\"end_time\"),\n",
    "    F.col(\"record.value\").alias(\"value\")\n",
    ")\n",
    "df_wind_result = df_wind_result.withColumn(\"refresh_timestamp\", F.current_timestamp())\n",
    "df_wind_result.display()\n",
    "\n",
    "df_wind_result.write.mode(\"append\").saveAsTable('fingrid_test_workspace.fingrid_silver.wind_forecast')"
   ]
  },
  {
   "cell_type": "code",
   "execution_count": 0,
   "metadata": {
    "application/vnd.databricks.v1+cell": {
     "cellMetadata": {
      "byteLimit": 2048000,
      "implicitDf": true,
      "rowLimit": 10000
     },
     "inputWidgets": {},
     "nuid": "a3bdfa57-b97d-4082-ac71-b89190dde39e",
     "showTitle": false,
     "tableResultSettingsMap": {},
     "title": ""
    }
   },
   "outputs": [],
   "source": [
    "%sql\n",
    "select * from fingrid_test_workspace.fingrid_silver.wind_forecast"
   ]
  },
  {
   "cell_type": "markdown",
   "metadata": {
    "application/vnd.databricks.v1+cell": {
     "cellMetadata": {},
     "inputWidgets": {},
     "nuid": "44d00363-6f4c-47d0-a2cd-4c2b4e171674",
     "showTitle": false,
     "tableResultSettingsMap": {},
     "title": ""
    }
   },
   "source": [
    "# f\n"
   ]
  },
  {
   "cell_type": "code",
   "execution_count": 0,
   "metadata": {
    "application/vnd.databricks.v1+cell": {
     "cellMetadata": {
      "byteLimit": 2048000,
      "rowLimit": 10000
     },
     "inputWidgets": {},
     "nuid": "00549994-c2a0-4719-b7e2-c0bfc9f1d17c",
     "showTitle": false,
     "tableResultSettingsMap": {},
     "title": ""
    }
   },
   "outputs": [],
   "source": [
    "import pyspark.sql.functions as F\n",
    "\n",
    "catalog = \"fingrid_test_workspace\"\n",
    "\n",
    "schema = \"fingrid_bronze\"\n",
    "\n",
    "table_name = \"electricity_consumption_raw\"\n",
    "\n",
    "table = \".\".join([catalog, schema, table_name])\n",
    "\n",
    "df = spark.read.table(table)\n",
    "\n",
    "\n",
    "df_flat = df.select(F.explode(F.col(\"data\")).alias(\"record\"))\n",
    "\n",
    "df_result = df_flat.select(\n",
    "    F.col(\"record.datasetId\").alias(\"dataset_id\"),\n",
    "    F.col(\"record.startTime\").alias(\"start_time\"),\n",
    "    F.col(\"record.endTime\").alias(\"end_time\"),\n",
    "    F.col(\"record.value\").alias(\"value\"),\n",
    "    # If you want fields from additionalJson:\n",
    "    F.col(\"record.additionalJson.Count\").alias(\"count\"),\n",
    "    F.col(\"record.additionalJson.CustomerType\").alias(\"customer_type\"),\n",
    "    F.col(\"record.additionalJson.ReadTS\").alias(\"read_ts\"),\n",
    "    F.col(\"record.additionalJson.Res\").alias(\"res\"),\n",
    "    F.col(\"record.additionalJson.TimeSeriesType\").alias(\"time_series_type\"),\n",
    "    F.col(\"record.additionalJson.Uom\").alias(\"uom\"),\n",
    "    F.col(\"record.additionalJson.Value\").alias(\"additional_value\")\n",
    ")\n",
    "\n",
    "\n",
    "\n",
    "df_result = df_result.withColumn(\"refresh_timestamp\", F.current_timestamp())\n",
    "df_result.display()\n",
    "\n",
    "df_result.write.mode(\"append\").saveAsTable('fingrid_test_workspace.fingrid_silver.electricity_consumption')"
   ]
  },
  {
   "cell_type": "code",
   "execution_count": 0,
   "metadata": {
    "application/vnd.databricks.v1+cell": {
     "cellMetadata": {
      "byteLimit": 2048000,
      "implicitDf": true,
      "rowLimit": 10000
     },
     "inputWidgets": {},
     "nuid": "b3808466-829e-48b3-bbc2-b44561ec1446",
     "showTitle": false,
     "tableResultSettingsMap": {},
     "title": ""
    }
   },
   "outputs": [],
   "source": [
    "%sql\n",
    "select time_series_type,res,uom, count(*) from fingrid_test_workspace.fingrid_silver.electricity_consumption\n",
    "group by time_series_type,res,uom"
   ]
  },
  {
   "cell_type": "code",
   "execution_count": 0,
   "metadata": {
    "application/vnd.databricks.v1+cell": {
     "cellMetadata": {},
     "inputWidgets": {},
     "nuid": "2ff0de05-ced9-4bee-8f96-656d62346995",
     "showTitle": false,
     "tableResultSettingsMap": {},
     "title": ""
    }
   },
   "outputs": [],
   "source": []
  }
 ],
 "metadata": {
  "application/vnd.databricks.v1+notebook": {
   "computePreferences": null,
   "dashboards": [],
   "environmentMetadata": {
    "base_environment": "",
    "environment_version": "2"
   },
   "inputWidgetPreferences": null,
   "language": "python",
   "notebookMetadata": {
    "mostRecentlyExecutedCommandWithImplicitDF": {
     "commandId": 8277272603077619,
     "dataframes": [
      "_sqldf"
     ]
    },
    "pythonIndentUnit": 4
   },
   "notebookName": "2. read bronze data and write to silver",
   "widgets": {}
  },
  "language_info": {
   "name": "python"
  }
 },
 "nbformat": 4,
 "nbformat_minor": 0
}
