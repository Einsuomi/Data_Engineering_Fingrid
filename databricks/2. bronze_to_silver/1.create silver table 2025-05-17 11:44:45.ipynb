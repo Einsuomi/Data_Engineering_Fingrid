{
 "cells": [
  {
   "cell_type": "code",
   "execution_count": 0,
   "metadata": {
    "application/vnd.databricks.v1+cell": {
     "cellMetadata": {
      "byteLimit": 2048000,
      "implicitDf": true,
      "rowLimit": 10000
     },
     "inputWidgets": {},
     "nuid": "836e5c3d-0160-4e5d-9b80-47765a3c6fcc",
     "showTitle": false,
     "tableResultSettingsMap": {},
     "title": ""
    }
   },
   "outputs": [],
   "source": [
    "%sql\n",
    "CREATE or replace table fingrid_silver.solar_forecast\n",
    "(\n",
    "  dataset_id long,\n",
    "  start_time STRING,\n",
    "  end_time STRING,\n",
    "  value DOUBLE,\n",
    "  refresh_timestamp timestamp\n",
    ")\n",
    "using DELTA\n",
    "\n",
    "LOCATION 'abfss://silver@fingridtest.dfs.core.windows.net/solar_forecast/'"
   ]
  },
  {
   "cell_type": "code",
   "execution_count": 0,
   "metadata": {
    "application/vnd.databricks.v1+cell": {
     "cellMetadata": {
      "byteLimit": 2048000,
      "implicitDf": true,
      "rowLimit": 10000
     },
     "inputWidgets": {},
     "nuid": "ba0f1714-1467-4207-9c11-dbe5691cdf09",
     "showTitle": false,
     "tableResultSettingsMap": {},
     "title": ""
    }
   },
   "outputs": [],
   "source": [
    "%sql\n",
    "CREATE or replace table fingrid_silver.wind_forecast\n",
    "(\n",
    "  dataset_id long,\n",
    "  start_time STRING,\n",
    "  end_time STRING,\n",
    "  value DOUBLE,\n",
    "  refresh_timestamp timestamp\n",
    ")\n",
    "using DELTA\n",
    "\n",
    "LOCATION 'abfss://silver@fingridtest.dfs.core.windows.net/wind_forecast/'"
   ]
  },
  {
   "cell_type": "code",
   "execution_count": 0,
   "metadata": {
    "application/vnd.databricks.v1+cell": {
     "cellMetadata": {},
     "inputWidgets": {},
     "nuid": "3e6ba134-36b7-4522-ba24-f22d5f27906a",
     "showTitle": false,
     "tableResultSettingsMap": {},
     "title": ""
    }
   },
   "outputs": [],
   "source": [
    "root\n",
    " |-- dataset_id: long (nullable = true)\n",
    " |-- start_time: string (nullable = true)\n",
    " |-- end_time: string (nullable = true)\n",
    " |-- value: double (nullable = true)\n",
    " |-- count: string (nullable = true)\n",
    " |-- customer_type: string (nullable = true)\n",
    " |-- read_ts: string (nullable = true)\n",
    " |-- res: string (nullable = true)\n",
    " |-- time_series_type: string (nullable = true)\n",
    " |-- uom: string (nullable = true)\n",
    " |-- additional_value: string (nullable = true)\n",
    " |-- refresh_timestamp: timestamp (nullable = false)"
   ]
  },
  {
   "cell_type": "code",
   "execution_count": 0,
   "metadata": {
    "application/vnd.databricks.v1+cell": {
     "cellMetadata": {
      "byteLimit": 2048000,
      "implicitDf": true,
      "rowLimit": 10000
     },
     "inputWidgets": {},
     "nuid": "af5a900d-1659-4c37-a9eb-de7a261d3cc5",
     "showTitle": false,
     "tableResultSettingsMap": {},
     "title": ""
    }
   },
   "outputs": [],
   "source": [
    "%sql\n",
    "CREATE or replace table fingrid_silver.electricity_consumption\n",
    "(\n",
    "  dataset_id long,\n",
    "  start_time STRING,\n",
    "  end_time STRING,\n",
    "  value DOUBLE,\n",
    "  count STRING,\n",
    "  customer_type STRING,\n",
    "  read_ts STRING,\n",
    "  time_series_type STRING,\n",
    "  res STRING,\n",
    "  uom STRING,\n",
    "  additional_value STRING,\n",
    "  refresh_timestamp timestamp\n",
    ")\n",
    "using DELTA\n",
    "\n",
    "LOCATION 'abfss://silver@fingridtest.dfs.core.windows.net/electricity_consumption/'"
   ]
  }
 ],
 "metadata": {
  "application/vnd.databricks.v1+notebook": {
   "computePreferences": null,
   "dashboards": [],
   "environmentMetadata": {
    "base_environment": "",
    "environment_version": "2"
   },
   "inputWidgetPreferences": null,
   "language": "python",
   "notebookMetadata": {
    "mostRecentlyExecutedCommandWithImplicitDF": {
     "commandId": 4879928146504169,
     "dataframes": [
      "_sqldf"
     ]
    },
    "pythonIndentUnit": 4
   },
   "notebookName": "1.create silver table 2025-05-17 11:44:45",
   "widgets": {}
  },
  "language_info": {
   "name": "python"
  }
 },
 "nbformat": 4,
 "nbformat_minor": 0
}
