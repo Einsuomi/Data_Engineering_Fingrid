{
 "cells": [
  {
   "cell_type": "code",
   "execution_count": 0,
   "metadata": {
    "application/vnd.databricks.v1+cell": {
     "cellMetadata": {},
     "inputWidgets": {},
     "nuid": "eadf7b5a-14a9-49de-b1d2-e3f73c4cdf99",
     "showTitle": false,
     "tableResultSettingsMap": {},
     "title": ""
    }
   },
   "outputs": [],
   "source": [
    "%sql\n",
    "CREATE TABLE IF NOT EXISTS fingrid_test_workspace.fingrid_gold.dim_customer\n",
    "USING DELTA\n",
    "LOCATION 'abfss://gold@fingridtest.dfs.core.windows.net/gold/dim_customer/'"
   ]
  },
  {
   "cell_type": "code",
   "execution_count": 0,
   "metadata": {
    "application/vnd.databricks.v1+cell": {
     "cellMetadata": {},
     "inputWidgets": {},
     "nuid": "3f16fc29-625b-4cd0-b883-7d6deadb734b",
     "showTitle": false,
     "tableResultSettingsMap": {},
     "title": ""
    }
   },
   "outputs": [],
   "source": [
    "%sql\n",
    "CREATE TABLE IF NOT EXISTS fingrid_test_workspace.fingrid_gold.dim_generate_type\n",
    "USING DELTA\n",
    "LOCATION 'abfss://gold@fingridtest.dfs.core.windows.net/gold/dim_generate_type/'\n"
   ]
  },
  {
   "cell_type": "code",
   "execution_count": 0,
   "metadata": {
    "application/vnd.databricks.v1+cell": {
     "cellMetadata": {},
     "inputWidgets": {},
     "nuid": "9c698990-4da7-4889-80a7-bc33bf25d8b0",
     "showTitle": false,
     "tableResultSettingsMap": {},
     "title": ""
    }
   },
   "outputs": [],
   "source": [
    "%sql\n",
    "CREATE TABLE IF NOT EXISTS fingrid_test_workspace.fingrid_gold.dim_date\n",
    "USING DELTA\n",
    "LOCATION 'abfss://gold@fingridtest.dfs.core.windows.net/gold/dim_date/'\n"
   ]
  },
  {
   "cell_type": "code",
   "execution_count": 0,
   "metadata": {
    "application/vnd.databricks.v1+cell": {
     "cellMetadata": {},
     "inputWidgets": {},
     "nuid": "a13c7fb2-5970-45b0-8a4e-acb0e6ef0723",
     "showTitle": false,
     "tableResultSettingsMap": {},
     "title": ""
    }
   },
   "outputs": [],
   "source": [
    "%sql\n",
    "CREATE TABLE IF NOT EXISTS fingrid_test_workspace.fingrid_gold.dim_time\n",
    "USING DELTA\n",
    "LOCATION 'abfss://gold@fingridtest.dfs.core.windows.net/gold/dim_time/'"
   ]
  }
 ],
 "metadata": {
  "application/vnd.databricks.v1+notebook": {
   "computePreferences": null,
   "dashboards": [],
   "environmentMetadata": {
    "base_environment": "",
    "environment_version": "2"
   },
   "inputWidgetPreferences": null,
   "language": "python",
   "notebookMetadata": {
    "pythonIndentUnit": 4
   },
   "notebookName": "register external table",
   "widgets": {}
  },
  "language_info": {
   "name": "python"
  }
 },
 "nbformat": 4,
 "nbformat_minor": 0
}
