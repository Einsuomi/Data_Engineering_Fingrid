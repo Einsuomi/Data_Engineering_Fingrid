{
 "cells": [
  {
   "cell_type": "code",
   "execution_count": 0,
   "metadata": {
    "application/vnd.databricks.v1+cell": {
     "cellMetadata": {
      "byteLimit": 2048000,
      "rowLimit": 10000
     },
     "inputWidgets": {},
     "nuid": "a670fc96-5950-4e6f-b98a-0279a3c2f5a2",
     "showTitle": false,
     "tableResultSettingsMap": {},
     "title": ""
    }
   },
   "outputs": [],
   "source": [
    "from datetime import date, timedelta\n",
    "from math import ceil\n",
    "\n",
    "start_date = date(2020, 1, 1)\n",
    "end_date = date(2050, 12, 31)\n",
    "\n",
    "dates = []\n",
    "current = start_date\n",
    "while current <= end_date:\n",
    "    row = {\n",
    "        \"date\": current,\n",
    "        \"date_id\": int(current.strftime(\"%Y%m%d\")),\n",
    "        \"year\": current.year,\n",
    "        \"month\": current.month,\n",
    "        \"day\": current.day,\n",
    "        \"day_of_week\": current.weekday() + 1,  # Monday=1\n",
    "        \"day_name\": current.strftime('%A'),\n",
    "        \"month_name\": current.strftime('%B'),\n",
    "        \"quarter\": ceil(current.month / 3),\n",
    "        \"is_weekday\": 1 if current.weekday() < 5 else 0,\n",
    "        \"is_leapyear\": 1 if (current.year % 4 == 0 and (current.year % 100 != 0 or current.year % 400 == 0)) else 0\n",
    "    }\n",
    "    dates.append(row)\n",
    "    current += timedelta(days=1)\n",
    "\n",
    "df_date = spark.createDataFrame(dates)\n",
    "\n",
    "external_path = \"abfss://gold@fingridtest.dfs.core.windows.net/gold/dim_date/\"\n",
    "df_date.write.format(\"delta\").mode(\"overwrite\").save(external_path)\n",
    "\n"
   ]
  }
 ],
 "metadata": {
  "application/vnd.databricks.v1+notebook": {
   "computePreferences": null,
   "dashboards": [],
   "environmentMetadata": {
    "base_environment": "",
    "environment_version": "2"
   },
   "inputWidgetPreferences": null,
   "language": "python",
   "notebookMetadata": {
    "mostRecentlyExecutedCommandWithImplicitDF": {
     "commandId": 8797359116910726,
     "dataframes": [
      "_sqldf"
     ]
    },
    "pythonIndentUnit": 4
   },
   "notebookName": "dim_date",
   "widgets": {}
  },
  "language_info": {
   "name": "python"
  }
 },
 "nbformat": 4,
 "nbformat_minor": 0
}
