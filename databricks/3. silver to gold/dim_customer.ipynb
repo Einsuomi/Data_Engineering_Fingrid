{
 "cells": [
  {
   "cell_type": "code",
   "execution_count": 0,
   "metadata": {
    "application/vnd.databricks.v1+cell": {
     "cellMetadata": {
      "byteLimit": 2048000,
      "rowLimit": 10000
     },
     "inputWidgets": {},
     "nuid": "c823311b-9dfa-478e-86d1-e0bb58e01326",
     "showTitle": false,
     "tableResultSettingsMap": {},
     "title": ""
    }
   },
   "outputs": [],
   "source": [
    "import pyspark.sql.functions as F\n",
    "from pyspark.sql.functions import row_number, lit\n",
    "from pyspark.sql.window import Window\n",
    "\n",
    "\n",
    "\n",
    "catalog = \"fingrid_test_workspace\"\n",
    "\n",
    "schema = \"fingrid_silver\"\n",
    "\n",
    "table_name = \"electricity_consumption\"\n",
    "\n",
    "table = \".\".join([catalog, schema, table_name])\n",
    "\n",
    "df = spark.read.table(table)\n",
    "\n",
    "\n",
    "df = df.select(\"customer_type\",\"time_series_type\",\"res\").dropDuplicates()\n",
    "\n",
    "w = Window().orderBy(lit(1))\n",
    "df = df.withColumn('id', row_number().over(w).cast('bigint'))\n",
    "\n",
    "df = df.select(\n",
    "    \"id\", \"customer_type\", \"time_series_type\", \"res\"\n",
    ")\n",
    "\n",
    "df = df.withColumnRenamed(\"id\", \"customerID\")\n",
    "\n",
    "df.display()"
   ]
  },
  {
   "cell_type": "code",
   "execution_count": 0,
   "metadata": {
    "application/vnd.databricks.v1+cell": {
     "cellMetadata": {
      "byteLimit": 2048000,
      "rowLimit": 10000
     },
     "inputWidgets": {},
     "nuid": "627b94a7-ae64-44c9-b547-7a0cd6cd1d7d",
     "showTitle": false,
     "tableResultSettingsMap": {},
     "title": ""
    }
   },
   "outputs": [],
   "source": [
    "external_path = \"abfss://gold@fingridtest.dfs.core.windows.net/gold/dim_customer/\"\n",
    "df.write.format(\"delta\").mode(\"overwrite\").save(external_path)\n",
    "\n"
   ]
  },
  {
   "cell_type": "code",
   "execution_count": 0,
   "metadata": {
    "application/vnd.databricks.v1+cell": {
     "cellMetadata": {
      "byteLimit": 2048000,
      "implicitDf": true,
      "rowLimit": 10000
     },
     "inputWidgets": {},
     "nuid": "df4c2fb7-c821-4e54-9a84-5ca5e1ce1cc2",
     "showTitle": false,
     "tableResultSettingsMap": {},
     "title": ""
    }
   },
   "outputs": [],
   "source": [
    "%sql\n",
    "CREATE TABLE IF NOT EXISTS fingrid_test_workspace.fingrid_gold.dim_customer\n",
    "USING DELTA\n",
    "LOCATION 'abfss://gold@fingridtest.dfs.core.windows.net/gold/dim_customer/'\n"
   ]
  },
  {
   "cell_type": "code",
   "execution_count": 0,
   "metadata": {
    "application/vnd.databricks.v1+cell": {
     "cellMetadata": {
      "byteLimit": 2048000,
      "implicitDf": true,
      "rowLimit": 10000
     },
     "inputWidgets": {},
     "nuid": "2b6b3e5c-c000-4f3c-a578-1f2c8796832d",
     "showTitle": false,
     "tableResultSettingsMap": {},
     "title": ""
    }
   },
   "outputs": [],
   "source": [
    "%sql\n",
    "select * from fingrid_test_workspace.fingrid_gold.dim_customer"
   ]
  }
 ],
 "metadata": {
  "application/vnd.databricks.v1+notebook": {
   "computePreferences": null,
   "dashboards": [],
   "environmentMetadata": {
    "base_environment": "",
    "environment_version": "2"
   },
   "inputWidgetPreferences": null,
   "language": "python",
   "notebookMetadata": {
    "mostRecentlyExecutedCommandWithImplicitDF": {
     "commandId": 5167004270313695,
     "dataframes": [
      "_sqldf"
     ]
    },
    "pythonIndentUnit": 4
   },
   "notebookName": "dim_customer",
   "widgets": {}
  },
  "language_info": {
   "name": "python"
  }
 },
 "nbformat": 4,
 "nbformat_minor": 0
}
