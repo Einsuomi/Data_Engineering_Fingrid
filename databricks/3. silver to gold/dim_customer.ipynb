{
 "cells": [
  {
   "cell_type": "code",
   "execution_count": 0,
   "metadata": {
    "application/vnd.databricks.v1+cell": {
     "cellMetadata": {
      "byteLimit": 2048000,
      "rowLimit": 10000
     },
     "inputWidgets": {},
     "nuid": "c823311b-9dfa-478e-86d1-e0bb58e01326",
     "showTitle": false,
     "tableResultSettingsMap": {},
     "title": ""
    }
   },
   "outputs": [],
   "source": [
    "import pyspark.sql.functions as F\n",
    "from pyspark.sql.functions import row_number, lit\n",
    "from pyspark.sql.window import Window\n",
    "\n",
    "\n",
    "\n",
    "catalog = \"fingrid_test_workspace\"\n",
    "\n",
    "schema = \"fingrid_silver\"\n",
    "\n",
    "table_name = \"electricity_consumption\"\n",
    "\n",
    "table = \".\".join([catalog, schema, table_name])\n",
    "\n",
    "df = spark.read.table(table)\n",
    "\n",
    "\n",
    "df = df.select(\"customer_type\",\"time_series_type\",\"res\").dropDuplicates()\n",
    "\n",
    "w = Window().orderBy(lit(1))\n",
    "df = df.withColumn('id', row_number().over(w).cast('bigint'))\n",
    "\n",
    "df = df.select(\n",
    "    \"id\", \"customer_type\", \"time_series_type\", \"res\"\n",
    ")\n",
    "\n",
    "df = df.withColumnRenamed(\"id\", \"customerID\")\n",
    "\n",
    "external_path = \"abfss://gold@fingridtest.dfs.core.windows.net/gold/dim_customer/\"\n",
    "df.write.format(\"delta\").mode(\"overwrite\").save(external_path)\n",
    "\n",
    "df.display()"
   ]
  }
 ],
 "metadata": {
  "application/vnd.databricks.v1+notebook": {
   "computePreferences": null,
   "dashboards": [],
   "environmentMetadata": {
    "base_environment": "",
    "environment_version": "2"
   },
   "inputWidgetPreferences": null,
   "language": "python",
   "notebookMetadata": {
    "mostRecentlyExecutedCommandWithImplicitDF": {
     "commandId": 180469345406127,
     "dataframes": [
      "_sqldf"
     ]
    },
    "pythonIndentUnit": 4
   },
   "notebookName": "dim_customer",
   "widgets": {}
  },
  "language_info": {
   "name": "python"
  }
 },
 "nbformat": 4,
 "nbformat_minor": 0
}
