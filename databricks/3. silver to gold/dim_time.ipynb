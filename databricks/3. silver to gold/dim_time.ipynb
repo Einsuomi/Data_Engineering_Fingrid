{
 "cells": [
  {
   "cell_type": "code",
   "execution_count": 0,
   "metadata": {
    "application/vnd.databricks.v1+cell": {
     "cellMetadata": {
      "byteLimit": 2048000,
      "rowLimit": 10000
     },
     "inputWidgets": {},
     "nuid": "9d8d02ee-86ef-4eba-aab6-8d07c1b442f3",
     "showTitle": false,
     "tableResultSettingsMap": {},
     "title": ""
    }
   },
   "outputs": [],
   "source": [
    "# Create a dimension specifically for 15-minute intervals\n",
    "time_quarters = []\n",
    "for hour in range(24):\n",
    "    for quarter in range(4):\n",
    "        minutes = quarter * 15\n",
    "        time_str = f\"{hour:02d}:{minutes:02d}:00\"\n",
    "        \n",
    "        row = {\n",
    "            \"time_quarter_id\": hour * 4 + quarter,  # Primary key (0-95)\n",
    "            \"hour\": hour,                           # Hour (0-23)\n",
    "            \"quarter_of_hour\": quarter,             # Quarter (0-3)\n",
    "            \"minute\": minutes,                      # Minute (0, 15, 30, 45)\n",
    "            \"time_15min\": time_str,                 # Time string (HH:MM:SS)\n",
    "            \"time_display\": f\"{hour:02d}:{minutes:02d}\",  # Display format\n",
    "            \"hour_12\": ((hour - 1) % 12) + 1,       # 12-hour format (1-12)\n",
    "            \"am_pm\": \"AM\" if hour < 12 else \"PM\",   # AM/PM indicator\n",
    "            \"time_period\": \"Morning\" if 6 <= hour < 12 else \n",
    "                           \"Afternoon\" if 12 <= hour < 18 else \n",
    "                           \"Evening\" if 18 <= hour < 22 else \"Night\",\n",
    "            \"is_business_hour\": 1 if 9 <= hour < 18 and quarter > 0 else 0,  # 9:15 AM to 5:45 PM\n",
    "            \"sort_order\": hour * 4 + quarter        # For ordering (0-95)\n",
    "        }\n",
    "        time_quarters.append(row)\n",
    "\n",
    "df_time_quarter = spark.createDataFrame(time_quarters)\n",
    "\n",
    "\n",
    "external_path = \"abfss://gold@fingridtest.dfs.core.windows.net/gold/dim_time/\"\n",
    "df_time_quarter.write.format(\"delta\").option(\"mergeSchema\", \"true\").mode(\"overwrite\").save(external_path)\n",
    "\n",
    "\n",
    "\n"
   ]
  }
 ],
 "metadata": {
  "application/vnd.databricks.v1+notebook": {
   "computePreferences": null,
   "dashboards": [],
   "environmentMetadata": {
    "base_environment": "",
    "environment_version": "2"
   },
   "inputWidgetPreferences": null,
   "language": "python",
   "notebookMetadata": {
    "mostRecentlyExecutedCommandWithImplicitDF": {
     "commandId": 5167004270313693,
     "dataframes": [
      "_sqldf"
     ]
    },
    "pythonIndentUnit": 4
   },
   "notebookName": "dim_time",
   "widgets": {}
  },
  "language_info": {
   "name": "python"
  }
 },
 "nbformat": 4,
 "nbformat_minor": 0
}
