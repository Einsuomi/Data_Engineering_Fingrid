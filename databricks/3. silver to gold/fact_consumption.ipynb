{
 "cells": [
  {
   "cell_type": "code",
   "execution_count": 0,
   "metadata": {
    "application/vnd.databricks.v1+cell": {
     "cellMetadata": {
      "byteLimit": 2048000,
      "rowLimit": 10000
     },
     "inputWidgets": {},
     "nuid": "c247ca92-a795-41bd-b4a8-42a06da578a3",
     "showTitle": false,
     "tableResultSettingsMap": {},
     "title": ""
    }
   },
   "outputs": [],
   "source": [
    "import pyspark.sql.functions as F\n",
    "from pyspark.sql.functions import row_number, lit\n",
    "from pyspark.sql.window import Window\n",
    "\n",
    "\n",
    "\n",
    "catalog = \"fingrid_test_workspace\"\n",
    "\n",
    "silver_schema = \"fingrid_silver\"\n",
    "gold_schema = \"fingrid_gold\"\n",
    "\n",
    "table_name_silver = \"electricity_consumption\"\n",
    "silver_table = \".\".join([catalog, silver_schema, table_name_silver])\n",
    "\n",
    "\n",
    "date_table_name = \"dim_date\"\n",
    "table_date = \".\".join([catalog, gold_schema, date_table_name])\n",
    "\n",
    "time_table_name = \"dim_time\"\n",
    "table_time = \".\".join([catalog, gold_schema, time_table_name])\n",
    "\n",
    "df = spark.read.format(\"delta\").table(silver_table)\n",
    "df = df.drop(\"refresh_timestamp\", \"dataset_id\", \"uom\", \"read_ts\")\n",
    "\n",
    "\n",
    "df = df.withColumn(\"start_date\", F.col(\"start_time\").cast(\"date\"))\n",
    "df = df.withColumn(\"end_date\", F.col(\"end_time\").cast(\"date\"))\n",
    "\n",
    "df = df.withColumn(\"start_time\", F.split(F.col(\"start_time\"), \"T\").getItem(1).substr(1, 8))\n",
    "df = df.withColumn(\"end_time\", F.split(F.col(\"end_time\"), \"T\").getItem(1).substr(1, 8))\n",
    "\n",
    "# get start date id \n",
    "df_date = spark.read.format(\"delta\").table(table_date)\n",
    "join =    ((F.col(\"f.start_date\") == F.col(\"d.date\")))       \n",
    "df = (\n",
    "    df.alias(\"f\")\n",
    "        .join(\n",
    "            df_date.alias(\"d\"), join, \"left\"\n",
    "        ).select(\"f.*\", \n",
    "                F.col(\"d.date_id\").alias(\"start_date_id\"),        \n",
    ").drop(\"start_date\")\n",
    ")\n",
    "\n",
    "# get end date_id\n",
    "join =    ((F.col(\"f.end_date\") == F.col(\"d.date\")))       \n",
    "df = (\n",
    "    df.alias(\"f\")\n",
    "        .join(\n",
    "            df_date.alias(\"d\"), join, \"left\"\n",
    "        ).select(\"f.*\", \n",
    "                F.col(\"d.date_id\").alias(\"end_date_id\"),        \n",
    ").drop(\"end_date\")\n",
    ")\n",
    "\n",
    "# get start time id \n",
    "df_time = spark.read.format(\"delta\").table(table_time)\n",
    "join =    ((F.col(\"f.start_time\") == F.col(\"d.time_15min\")))       \n",
    "df = (\n",
    "    df.alias(\"f\")\n",
    "        .join(\n",
    "            df_time.alias(\"d\"), join, \"left\"\n",
    "        ).select(\"f.*\", \n",
    "                F.col(\"d.time_quarter_id\").alias(\"start_time_id\"),        \n",
    ").drop(\"start_time\")\n",
    ")\n",
    "\n",
    "# get end time_id\n",
    "join =    ((F.col(\"f.end_time\") == F.col(\"d.time_15min\")))       \n",
    "df = (\n",
    "    df.alias(\"f\")\n",
    "        .join(\n",
    "            df_time.alias(\"d\"), join, \"left\"\n",
    "        ).select(\"f.*\", \n",
    "                F.col(\"d.time_quarter_id\").alias(\"end_time_id\"),        \n",
    ").drop(\"end_time\")\n",
    ")\n",
    "\n",
    "\n",
    "\n",
    "customer_table_name = \"dim_customer\"\n",
    "table_customer = \".\".join([catalog, gold_schema, customer_table_name])\n",
    "\n",
    "df_customer = spark.read.format(\"delta\").table(table_customer)\n",
    "\n",
    "# get customerID\n",
    "join =    ((F.col(\"f.customer_type\") == F.col(\"d.customer_type\")) & \n",
    "           (F.col(\"f.time_series_type\") == F.col(\"d.time_series_type\")) &\n",
    "           (F.col(\"f.res\") == F.col(\"d.res\"))\n",
    "           )       \n",
    "df = (\n",
    "    df.alias(\"f\")\n",
    "        .join(\n",
    "            df_customer.alias(\"d\"), join, \"left\"\n",
    "        ).select(\"f.*\", \n",
    "                F.col(\"d.customerID\").alias(\"customerID\"),        \n",
    ").drop(\"customer_type\", \"time_series_type\",\"res\")\n",
    ")\n",
    "\n",
    "df = df.withColumn(\"additional_value\", F.col(\"additional_value\").cast(\"double\"))\n",
    "df = df.withColumn(\"count\", F.col(\"count\").cast(\"bigint\"))\n",
    "\n",
    "df = df.withColumn(\"refresh_timestamp\", F.current_timestamp())\n",
    "\n",
    "external_path = \"abfss://gold@fingridtest.dfs.core.windows.net/gold/fact_consumption/\"\n",
    "df.write.format(\"delta\").mode(\"overwrite\").option(\"mergeSchema\", \"true\").save(external_path)\n",
    "\n",
    "\n",
    "\n",
    "df.display()\n"
   ]
  },
  {
   "cell_type": "code",
   "execution_count": 0,
   "metadata": {
    "application/vnd.databricks.v1+cell": {
     "cellMetadata": {
      "byteLimit": 2048000,
      "implicitDf": true,
      "rowLimit": 10000
     },
     "collapsed": true,
     "inputWidgets": {},
     "nuid": "904541b6-d1a9-4e5f-bd69-59e2ee7f4492",
     "showTitle": false,
     "tableResultSettingsMap": {},
     "title": ""
    }
   },
   "outputs": [],
   "source": [
    "%sql\n",
    "CREATE TABLE IF NOT EXISTS fingrid_test_workspace.fingrid_gold.fact_consumption\n",
    "USING DELTA\n",
    "LOCATION 'abfss://gold@fingridtest.dfs.core.windows.net/gold/fact_consumption/'\n"
   ]
  },
  {
   "cell_type": "code",
   "execution_count": 0,
   "metadata": {
    "application/vnd.databricks.v1+cell": {
     "cellMetadata": {
      "byteLimit": 2048000,
      "implicitDf": true,
      "rowLimit": 10000
     },
     "inputWidgets": {},
     "nuid": "ef96c0b9-934e-42e4-924f-61c98ff17c7f",
     "showTitle": false,
     "tableResultSettingsMap": {},
     "title": ""
    }
   },
   "outputs": [],
   "source": [
    "%sql\n",
    "select * from fingrid_test_workspace.fingrid_gold.fact_consumption"
   ]
  }
 ],
 "metadata": {
  "application/vnd.databricks.v1+notebook": {
   "computePreferences": null,
   "dashboards": [],
   "environmentMetadata": {
    "base_environment": "",
    "environment_version": "2"
   },
   "inputWidgetPreferences": null,
   "language": "python",
   "notebookMetadata": {
    "mostRecentlyExecutedCommandWithImplicitDF": {
     "commandId": 5167004270313721,
     "dataframes": [
      "_sqldf"
     ]
    },
    "pythonIndentUnit": 4
   },
   "notebookName": "fact_consumption",
   "widgets": {}
  },
  "language_info": {
   "name": "python"
  }
 },
 "nbformat": 4,
 "nbformat_minor": 0
}
