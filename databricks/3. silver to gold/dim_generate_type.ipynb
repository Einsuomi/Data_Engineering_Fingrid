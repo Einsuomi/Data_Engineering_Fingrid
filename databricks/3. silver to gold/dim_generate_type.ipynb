{
 "cells": [
  {
   "cell_type": "code",
   "execution_count": 0,
   "metadata": {
    "application/vnd.databricks.v1+cell": {
     "cellMetadata": {
      "byteLimit": 2048000,
      "rowLimit": 10000
     },
     "inputWidgets": {},
     "nuid": "b7fa2f43-805a-4582-aa3d-3966769c7242",
     "showTitle": false,
     "tableResultSettingsMap": {},
     "title": ""
    }
   },
   "outputs": [],
   "source": [
    "import pyspark.sql.functions as F\n",
    "from pyspark.sql.functions import row_number, lit\n",
    "from pyspark.sql.window import Window\n",
    "\n",
    "\n",
    "\n",
    "catalog = \"fingrid_test_workspace\"\n",
    "\n",
    "schema = \"fingrid_load_control\"\n",
    "\n",
    "table_name = \"load_control\"\n",
    "\n",
    "table = \".\".join([catalog, schema, table_name])\n",
    "\n",
    "df = spark.read.table(table)\n",
    "\n",
    "\n",
    "df = df.select(\"source_dataset_id\",\"source_dateset_name\").dropDuplicates()\n",
    "\n",
    "df = df.withColumn(\"source_dataset_id\", F.col(\"source_dataset_id\").cast(\"bigint\"))\n",
    "\n",
    "df = df.withColumn(\n",
    "    \"generate_type\",\n",
    "    F.when(F.col(\"source_dataset_id\") == 248, \"Solar\")\n",
    "     .when(F.col(\"source_dataset_id\") == 245, \"Wind\")\n",
    "     .otherwise(\"Other\")\n",
    ")\n",
    "\n",
    "df = df.withColumn(\n",
    "    \"update_frequency\",\n",
    "    F.when(F.col(\"source_dataset_id\") == 248, \"15 mins\")\n",
    "     .when(F.col(\"source_dataset_id\") == 245, \"15 mins\")\n",
    "     .otherwise(\"Other\")\n",
    ")\n",
    "\n",
    "external_path = \"abfss://gold@fingridtest.dfs.core.windows.net/gold/dim_generate_type/\"\n",
    "df.write.format(\"delta\").mode(\"overwrite\").save(external_path)\n",
    "\n",
    "\n",
    "\n",
    "df.display()"
   ]
  },
  {
   "cell_type": "code",
   "execution_count": 0,
   "metadata": {
    "application/vnd.databricks.v1+cell": {
     "cellMetadata": {
      "byteLimit": 2048000,
      "implicitDf": true,
      "rowLimit": 10000
     },
     "inputWidgets": {},
     "nuid": "62a6ae80-0888-4d89-92c2-79208c51908e",
     "showTitle": false,
     "tableResultSettingsMap": {},
     "title": ""
    }
   },
   "outputs": [],
   "source": [
    "%sql\n",
    "CREATE TABLE IF NOT EXISTS fingrid_test_workspace.fingrid_gold.dim_generate_type\n",
    "USING DELTA\n",
    "LOCATION 'abfss://gold@fingridtest.dfs.core.windows.net/gold/dim_generate_type/'\n"
   ]
  }
 ],
 "metadata": {
  "application/vnd.databricks.v1+notebook": {
   "computePreferences": null,
   "dashboards": [],
   "environmentMetadata": {
    "base_environment": "",
    "environment_version": "2"
   },
   "inputWidgetPreferences": null,
   "language": "python",
   "notebookMetadata": {
    "mostRecentlyExecutedCommandWithImplicitDF": {
     "commandId": 5167004270313698,
     "dataframes": [
      "_sqldf"
     ]
    },
    "pythonIndentUnit": 4
   },
   "notebookName": "dim_generate_type",
   "widgets": {}
  },
  "language_info": {
   "name": "python"
  }
 },
 "nbformat": 4,
 "nbformat_minor": 0
}
