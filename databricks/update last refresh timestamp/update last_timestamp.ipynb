{
 "cells": [
  {
   "cell_type": "code",
   "execution_count": 0,
   "metadata": {
    "application/vnd.databricks.v1+cell": {
     "cellMetadata": {},
     "inputWidgets": {},
     "nuid": "a79a7a84-ad79-4e21-9229-f663e3ad8646",
     "showTitle": false,
     "tableResultSettingsMap": {},
     "title": ""
    }
   },
   "outputs": [],
   "source": [
    "# Get parameter from ADF\n",
    "dbutils.widgets.text(\"end_time\", \"\")\n",
    "end_time_str = dbutils.widgets.get(\"end_time\")\n",
    "\n",
    "dbutils.widgets.text(\"dataset_source_id\", \"\")\n",
    "dataset_source_id_str = dbutils.widgets.get(\"dataset_source_id\")\n",
    "\n",
    "# Register as SQL variable\n",
    "spark.conf.set(\"spark.end_time_str\", end_time_str)\n",
    "\n",
    "spark.conf.set(\"spark.dataset_source_id_str\", dataset_source_id_str)"
   ]
  },
  {
   "cell_type": "code",
   "execution_count": 0,
   "metadata": {
    "application/vnd.databricks.v1+cell": {
     "cellMetadata": {},
     "inputWidgets": {},
     "nuid": "c4df105c-8271-47be-b5a2-c222c266b308",
     "showTitle": false,
     "tableResultSettingsMap": {},
     "title": ""
    }
   },
   "outputs": [],
   "source": [
    "%sql\n",
    "UPDATE fingrid_test_workspace.fingrid_load_control.load_control\n",
    "SET last_timestamp = to_timestamp('${spark.end_time_str}'),\n",
    "refresh_timestamp = from_utc_timestamp(current_timestamp(), 'Europe/Helsinki')\n",
    "WHERE source_dataset_id = '${spark.dataset_source_id_str}'\n"
   ]
  }
 ],
 "metadata": {
  "application/vnd.databricks.v1+notebook": {
   "computePreferences": null,
   "dashboards": [],
   "environmentMetadata": {
    "base_environment": "",
    "environment_version": "2"
   },
   "inputWidgetPreferences": null,
   "language": "python",
   "notebookMetadata": {
    "mostRecentlyExecutedCommandWithImplicitDF": {
     "commandId": 6634645891733546,
     "dataframes": [
      "_sqldf"
     ]
    },
    "pythonIndentUnit": 4
   },
   "notebookName": "update last_timestamp",
   "widgets": {}
  },
  "language_info": {
   "name": "python"
  }
 },
 "nbformat": 4,
 "nbformat_minor": 0
}
