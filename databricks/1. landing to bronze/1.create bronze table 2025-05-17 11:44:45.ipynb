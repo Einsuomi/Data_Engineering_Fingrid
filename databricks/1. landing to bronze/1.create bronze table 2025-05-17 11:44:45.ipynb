{
 "cells": [
  {
   "cell_type": "code",
   "execution_count": 0,
   "metadata": {
    "application/vnd.databricks.v1+cell": {
     "cellMetadata": {
      "byteLimit": 2048000,
      "implicitDf": true,
      "rowLimit": 10000
     },
     "inputWidgets": {},
     "nuid": "db9f843c-c08c-425a-aec8-166943036c2a",
     "showTitle": false,
     "tableResultSettingsMap": {},
     "title": ""
    }
   },
   "outputs": [],
   "source": [
    "%sql\n",
    "CREATE or REPLACE TABLE fingrid_bronze.solar_forecast_raw\n",
    "(\n",
    "  data ARRAY<STRUCT<\n",
    "    datasetId: BIGINT,\n",
    "    endTime: STRING,\n",
    "    startTime: STRING,\n",
    "    value: DOUBLE\n",
    "  >>,\n",
    "  pagination STRUCT<\n",
    "    currentPage: BIGINT,\n",
    "    from: BIGINT,\n",
    "    lastPage: BIGINT,\n",
    "    nextPage: BIGINT,\n",
    "    perPage: BIGINT,\n",
    "    prevPage: STRING,\n",
    "    to: BIGINT,\n",
    "    total: BIGINT\n",
    "  >,\n",
    "  ingestion_timestamp TIMESTAMP\n",
    ")\n",
    "USING DELTA\n",
    "\n",
    "LOCATION 'abfss://bronze@fingridtest.dfs.core.windows.net/solar_forecast_raw'\n"
   ]
  },
  {
   "cell_type": "code",
   "execution_count": 0,
   "metadata": {
    "application/vnd.databricks.v1+cell": {
     "cellMetadata": {
      "byteLimit": 2048000,
      "implicitDf": true,
      "rowLimit": 10000
     },
     "inputWidgets": {},
     "nuid": "2a9015dd-24bd-4da4-b89e-3da2154a6df3",
     "showTitle": false,
     "tableResultSettingsMap": {},
     "title": ""
    }
   },
   "outputs": [],
   "source": [
    "%sql\n",
    "CREATE or REPLACE TABLE fingrid_bronze.wind_forecast_raw\n",
    "(\n",
    "  data ARRAY<STRUCT<\n",
    "    datasetId: LONG,\n",
    "    endTime: STRING,\n",
    "    startTime: STRING,\n",
    "    value: DOUBLE\n",
    "  >>,\n",
    "  pagination STRUCT<\n",
    "    currentPage: LONG,\n",
    "    from: LONG,\n",
    "    lastPage: LONG,\n",
    "    nextPage: LONG,\n",
    "    perPage: LONG,\n",
    "    prevPage: STRING,\n",
    "    to: LONG,\n",
    "    total: LONG\n",
    "  >,\n",
    "  ingestion_timestamp TIMESTAMP\n",
    ")\n",
    "USING DELTA\n",
    "LOCATION 'abfss://bronze@fingridtest.dfs.core.windows.net/wind_forecast_raw'"
   ]
  },
  {
   "cell_type": "code",
   "execution_count": 0,
   "metadata": {
    "application/vnd.databricks.v1+cell": {
     "cellMetadata": {
      "byteLimit": 2048000,
      "implicitDf": true,
      "rowLimit": 10000
     },
     "inputWidgets": {},
     "nuid": "d10d5e7f-5145-4fda-83dc-a71ed13e96fc",
     "showTitle": false,
     "tableResultSettingsMap": {},
     "title": ""
    }
   },
   "outputs": [],
   "source": [
    "%sql\n",
    "CREATE TABLE IF NOT EXISTS fingrid_bronze.electricity_consumption_raw\n",
    "(\n",
    "  data ARRAY<STRUCT<\n",
    "    additionalJson: STRUCT<\n",
    "      Count: STRING,\n",
    "      CustomerType: STRING,\n",
    "      ReadTS: STRING,\n",
    "      Res: STRING,\n",
    "      TimeSeriesType: STRING,\n",
    "      Uom: STRING,\n",
    "      Value: STRING\n",
    "    >,\n",
    "    datasetId: LONG,\n",
    "    endTime: STRING,\n",
    "    startTime: STRING,\n",
    "    value: DOUBLE\n",
    "  >>,\n",
    "  pagination STRUCT<\n",
    "    currentPage: LONG,\n",
    "    from: LONG,\n",
    "    lastPage: LONG,\n",
    "    nextPage: LONG,\n",
    "    perPage: LONG,\n",
    "    prevPage: STRING,\n",
    "    to: LONG,\n",
    "    total: LONG\n",
    "  >,\n",
    "  ingestion_timestamp TIMESTAMP\n",
    ")\n",
    "USING DELTA\n",
    "LOCATION 'abfss://bronze@fingridtest.dfs.core.windows.net/electricity_consumption_raw'"
   ]
  }
 ],
 "metadata": {
  "application/vnd.databricks.v1+notebook": {
   "computePreferences": null,
   "dashboards": [],
   "environmentMetadata": {
    "base_environment": "",
    "environment_version": "2"
   },
   "inputWidgetPreferences": null,
   "language": "python",
   "notebookMetadata": {
    "mostRecentlyExecutedCommandWithImplicitDF": {
     "commandId": 7374779673944831,
     "dataframes": [
      "_sqldf"
     ]
    },
    "pythonIndentUnit": 4
   },
   "notebookName": "1.create bronze table 2025-05-17 11:44:45",
   "widgets": {}
  },
  "language_info": {
   "name": "python"
  }
 },
 "nbformat": 4,
 "nbformat_minor": 0
}
