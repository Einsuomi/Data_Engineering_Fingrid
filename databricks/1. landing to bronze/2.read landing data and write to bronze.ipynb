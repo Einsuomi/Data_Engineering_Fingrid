{
 "cells": [
  {
   "cell_type": "markdown",
   "metadata": {
    "application/vnd.databricks.v1+cell": {
     "cellMetadata": {},
     "inputWidgets": {},
     "nuid": "535ce25f-e72e-45ab-ac96-891362841ff8",
     "showTitle": false,
     "tableResultSettingsMap": {},
     "title": ""
    }
   },
   "source": [
    "# fingrid_solar_power_generation_forecast_updated_every_15_minutes"
   ]
  },
  {
   "cell_type": "code",
   "execution_count": 0,
   "metadata": {
    "application/vnd.databricks.v1+cell": {
     "cellMetadata": {
      "byteLimit": 2048000,
      "rowLimit": 10000
     },
     "inputWidgets": {},
     "nuid": "fc45d816-3aae-4232-ba11-5f29e9958e72",
     "showTitle": false,
     "tableResultSettingsMap": {},
     "title": ""
    }
   },
   "outputs": [],
   "source": [
    "import pyspark.sql.functions as F\n",
    "from pyspark.sql.functions import current_timestamp, from_utc_timestamp\n",
    "\n",
    "df_solar = spark.read.option(\"multiline\", \"true\").json(\"abfss://landing@fingridtest.dfs.core.windows.net/fingrid_solar_power_generation_forecast_updated_every_15_minutes/\")\n",
    "\n",
    "df_solar = df_solar.withColumn(\"ingestion_timestamp\", current_timestamp())\n",
    "df_solar.display()\n",
    "\n",
    "df_solar.write.mode(\"overwrite\").saveAsTable(\"fingrid_test_workspace.fingrid_bronze.solar_forecast_raw\")\n"
   ]
  },
  {
   "cell_type": "code",
   "execution_count": 0,
   "metadata": {
    "application/vnd.databricks.v1+cell": {
     "cellMetadata": {
      "byteLimit": 2048000,
      "implicitDf": true,
      "rowLimit": 10000
     },
     "inputWidgets": {},
     "nuid": "234d4075-015e-4ec3-ba0d-078f1955132d",
     "showTitle": false,
     "tableResultSettingsMap": {},
     "title": ""
    }
   },
   "outputs": [],
   "source": [
    "%sql\n",
    "select * from fingrid_test_workspace.fingrid_bronze.solar_forecast_raw"
   ]
  },
  {
   "cell_type": "markdown",
   "metadata": {
    "application/vnd.databricks.v1+cell": {
     "cellMetadata": {},
     "inputWidgets": {},
     "nuid": "9de85311-da24-4bdd-a910-d8d2fe095001",
     "showTitle": false,
     "tableResultSettingsMap": {},
     "title": ""
    }
   },
   "source": [
    "# fingrid_wind_power_generation_forecast_updated_every_15_minutes"
   ]
  },
  {
   "cell_type": "code",
   "execution_count": 0,
   "metadata": {
    "application/vnd.databricks.v1+cell": {
     "cellMetadata": {
      "byteLimit": 2048000,
      "rowLimit": 10000
     },
     "inputWidgets": {},
     "nuid": "55336f5a-4e98-425b-a7b8-fcd34dd8273b",
     "showTitle": false,
     "tableResultSettingsMap": {},
     "title": ""
    }
   },
   "outputs": [],
   "source": [
    "import pyspark.sql.functions as F\n",
    "from pyspark.sql.functions import current_timestamp, from_utc_timestamp\n",
    "\n",
    "df_wind = spark.read.option(\"multiline\", \"true\").json(\"abfss://landing@fingridtest.dfs.core.windows.net/fingrid_wind_power_generation_forecast_updated_every_15_minutes/\")\n",
    "\n",
    "df_wind = df_wind.withColumn(\"ingestion_timestamp\", current_timestamp())\n",
    "df_wind.display()\n",
    "\n",
    "df_wind.write.mode(\"overwrite\").saveAsTable(\"fingrid_test_workspace.fingrid_bronze.wind_forecast_raw\")\n"
   ]
  },
  {
   "cell_type": "code",
   "execution_count": 0,
   "metadata": {
    "application/vnd.databricks.v1+cell": {
     "cellMetadata": {
      "byteLimit": 2048000,
      "implicitDf": true,
      "rowLimit": 10000
     },
     "inputWidgets": {},
     "nuid": "df19900b-cc03-406d-beee-2f98a4a417d2",
     "showTitle": false,
     "tableResultSettingsMap": {},
     "title": ""
    }
   },
   "outputs": [],
   "source": [
    "%sql\n",
    "select * from fingrid_test_workspace.fingrid_bronze.wind_forecast_raw"
   ]
  },
  {
   "cell_type": "markdown",
   "metadata": {
    "application/vnd.databricks.v1+cell": {
     "cellMetadata": {},
     "inputWidgets": {},
     "nuid": "fdb879ad-170e-4498-8afa-a9d679f35b5b",
     "showTitle": false,
     "tableResultSettingsMap": {},
     "title": ""
    }
   },
   "source": [
    "# Electricity_consumption_by_customer_type"
   ]
  },
  {
   "cell_type": "code",
   "execution_count": 0,
   "metadata": {
    "application/vnd.databricks.v1+cell": {
     "cellMetadata": {
      "byteLimit": 2048000,
      "rowLimit": 10000
     },
     "inputWidgets": {},
     "nuid": "d3b503bb-0726-4442-b472-71aa6d0f4bc2",
     "showTitle": false,
     "tableResultSettingsMap": {},
     "title": ""
    }
   },
   "outputs": [],
   "source": [
    "import pyspark.sql.functions as F\n",
    "from pyspark.sql.functions import current_timestamp, from_utc_timestamp\n",
    "\n",
    "df_consumption = spark.read.option(\"multiline\", \"true\").json(\"abfss://landing@fingridtest.dfs.core.windows.net/Electricity_consumption_by_customer_type/\")\n",
    "\n",
    "df_consumption = df_consumption.withColumn(\"ingestion_timestamp\", current_timestamp())\n",
    "df_consumption.display()\n",
    "\n",
    "df_consumption.write.mode(\"overwrite\").saveAsTable(\"fingrid_test_workspace.fingrid_bronze.electricity_consumption_raw\")\n"
   ]
  },
  {
   "cell_type": "code",
   "execution_count": 0,
   "metadata": {
    "application/vnd.databricks.v1+cell": {
     "cellMetadata": {
      "byteLimit": 2048000,
      "implicitDf": true,
      "rowLimit": 10000
     },
     "inputWidgets": {},
     "nuid": "202fbeac-c555-451f-9d09-a86aecb8ec36",
     "showTitle": false,
     "tableResultSettingsMap": {},
     "title": ""
    }
   },
   "outputs": [],
   "source": [
    "%sql\n",
    "select * from fingrid_test_workspace.fingrid_bronze.electricity_consumption_raw"
   ]
  }
 ],
 "metadata": {
  "application/vnd.databricks.v1+notebook": {
   "computePreferences": null,
   "dashboards": [],
   "environmentMetadata": {
    "base_environment": "",
    "environment_version": "2"
   },
   "inputWidgetPreferences": null,
   "language": "python",
   "notebookMetadata": {
    "mostRecentlyExecutedCommandWithImplicitDF": {
     "commandId": 8277272603077597,
     "dataframes": [
      "_sqldf"
     ]
    },
    "pythonIndentUnit": 4
   },
   "notebookName": "2.read landing data and write to bronze",
   "widgets": {}
  },
  "language_info": {
   "name": "python"
  }
 },
 "nbformat": 4,
 "nbformat_minor": 0
}
