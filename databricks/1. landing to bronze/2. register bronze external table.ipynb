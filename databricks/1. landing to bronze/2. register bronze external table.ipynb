{
 "cells": [
  {
   "cell_type": "code",
   "execution_count": 0,
   "metadata": {
    "application/vnd.databricks.v1+cell": {
     "cellMetadata": {},
     "inputWidgets": {},
     "nuid": "fd7b05a4-11e0-4dad-828d-312aeaa5bea4",
     "showTitle": false,
     "tableResultSettingsMap": {},
     "title": ""
    }
   },
   "outputs": [],
   "source": [
    "%sql\n",
    "CREATE TABLE IF NOT EXISTS  fingrid_test_workspace.fingrid_bronze.solar_forecast_raw\n",
    "USING DELTA \n",
    "LOCATION \"abfss://bronze@fingridtest.dfs.core.windows.net/fingrid_solar_power_generation_forecast_updated_every_15_minutes/\""
   ]
  },
  {
   "cell_type": "code",
   "execution_count": 0,
   "metadata": {
    "application/vnd.databricks.v1+cell": {
     "cellMetadata": {
      "byteLimit": 2048000,
      "implicitDf": true,
      "rowLimit": 10000
     },
     "inputWidgets": {},
     "nuid": "ac443de8-b05c-4675-bfe0-b76c65758fb0",
     "showTitle": false,
     "tableResultSettingsMap": {},
     "title": ""
    }
   },
   "outputs": [],
   "source": [
    "%sql\n",
    "CREATE TABLE IF NOT EXISTS  fingrid_test_workspace.fingrid_bronze.electricity_consumption_raw\n",
    "USING DELTA \n",
    "LOCATION \"abfss://bronze@fingridtest.dfs.core.windows.net/Electricity_consumption_by_customer_type/\""
   ]
  },
  {
   "cell_type": "code",
   "execution_count": 0,
   "metadata": {
    "application/vnd.databricks.v1+cell": {
     "cellMetadata": {
      "byteLimit": 2048000,
      "implicitDf": true,
      "rowLimit": 10000
     },
     "inputWidgets": {},
     "nuid": "4bbf89eb-603f-40d3-b705-fca617c21f51",
     "showTitle": false,
     "tableResultSettingsMap": {},
     "title": ""
    }
   },
   "outputs": [],
   "source": [
    "%sql\n",
    "CREATE TABLE IF NOT EXISTS  fingrid_test_workspace.fingrid_bronze.wind_forecast_raw\n",
    "USING DELTA \n",
    "LOCATION \"abfss://bronze@fingridtest.dfs.core.windows.net/fingrid_wind_power_generation_forecast_updated_every_15_minutes/\""
   ]
  }
 ],
 "metadata": {
  "application/vnd.databricks.v1+notebook": {
   "computePreferences": null,
   "dashboards": [],
   "environmentMetadata": {
    "base_environment": "",
    "environment_version": "2"
   },
   "inputWidgetPreferences": null,
   "language": "python",
   "notebookMetadata": {
    "mostRecentlyExecutedCommandWithImplicitDF": {
     "commandId": 6645500309135393,
     "dataframes": [
      "_sqldf"
     ]
    },
    "pythonIndentUnit": 4
   },
   "notebookName": "2. register bronze external table",
   "widgets": {}
  },
  "language_info": {
   "name": "python"
  }
 },
 "nbformat": 4,
 "nbformat_minor": 0
}
