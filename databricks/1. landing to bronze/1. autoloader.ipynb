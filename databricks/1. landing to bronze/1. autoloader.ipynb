{
 "cells": [
  {
   "cell_type": "markdown",
   "metadata": {
    "application/vnd.databricks.v1+cell": {
     "cellMetadata": {},
     "inputWidgets": {},
     "nuid": "0712070d-ebe8-4461-9c0b-4714b407b97b",
     "showTitle": false,
     "tableResultSettingsMap": {},
     "title": ""
    }
   },
   "source": [
    "# Autoloader to incrementally load the latest file"
   ]
  },
  {
   "cell_type": "code",
   "execution_count": 0,
   "metadata": {
    "application/vnd.databricks.v1+cell": {
     "cellMetadata": {
      "byteLimit": 2048000,
      "rowLimit": 10000
     },
     "inputWidgets": {},
     "nuid": "1719a564-8007-4cc6-ac6d-935aadfd0396",
     "showTitle": false,
     "tableResultSettingsMap": {},
     "title": ""
    }
   },
   "outputs": [],
   "source": [
    "import pyspark.sql.functions as F\n",
    "from pyspark.sql.window import Window\n",
    "from pyspark.sql.functions import row_number\n",
    "from pyspark.sql.functions import current_timestamp, from_utc_timestamp\n",
    "\n",
    "# read data from landing zone\n",
    "dataset = [\"fingrid_solar_power_generation_forecast_updated_every_15_minutes\",\n",
    "           \"fingrid_wind_power_generation_forecast_updated_every_15_minutes\",\n",
    "           \"Electricity_consumption_by_customer_type\"]\n",
    "\n",
    "for dataset in dataset:\n",
    "    load_path = f\"abfss://landing@fingridtest.dfs.core.windows.net/{dataset}/\"\n",
    "\n",
    "    df = spark.readStream.format(\"cloudFiles\")\\\n",
    "                .option(\"cloudFiles.format\", \"json\")\\\n",
    "                .option(\"cloudFiles.schemaLocation\",\"abfss://bronze@fingridtest.dfs.core.windows.net/autoloader_checkpoint\")\\\n",
    "                .option(\"cloudFiles.schemaEvolutionMode\", \"rescue\")\\\n",
    "                .load(load_path)\n",
    "\n",
    "    # add ingestion timestamp\n",
    "    df = df.withColumn(\"ingestion_timestamp\", current_timestamp())\n",
    "\n",
    "    write_path = f\"abfss://bronze@fingridtest.dfs.core.windows.net/{dataset}/\"\n",
    "\n",
    "    df.writeStream.trigger(availableNow=True)\\\n",
    "        .format(\"delta\")\\\n",
    "        .outputMode(\"append\")\\\n",
    "        .option(\"checkpointLocation\", \"abfss://bronze@fingridtest.dfs.core.windows.net/autoloader_checkpoint\")\\\n",
    "        .start(write_path)"
   ]
  },
  {
   "cell_type": "code",
   "execution_count": 0,
   "metadata": {
    "application/vnd.databricks.v1+cell": {
     "cellMetadata": {},
     "inputWidgets": {},
     "nuid": "9a9eec4f-ba26-49aa-9c47-ea0e7238a8aa",
     "showTitle": false,
     "tableResultSettingsMap": {},
     "title": ""
    }
   },
   "outputs": [],
   "source": []
  }
 ],
 "metadata": {
  "application/vnd.databricks.v1+notebook": {
   "computePreferences": null,
   "dashboards": [],
   "environmentMetadata": {
    "base_environment": "",
    "environment_version": "2"
   },
   "inputWidgetPreferences": null,
   "language": "python",
   "notebookMetadata": {
    "mostRecentlyExecutedCommandWithImplicitDF": {
     "commandId": 6645500309135380,
     "dataframes": [
      "_sqldf"
     ]
    },
    "pythonIndentUnit": 4
   },
   "notebookName": "1. autoloader",
   "widgets": {}
  },
  "language_info": {
   "name": "python"
  }
 },
 "nbformat": 4,
 "nbformat_minor": 0
}
